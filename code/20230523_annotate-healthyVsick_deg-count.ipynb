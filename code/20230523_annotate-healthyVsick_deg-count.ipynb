{
 "cells": [
  {
   "cell_type": "markdown",
   "metadata": {},
   "source": [
    "Notebook to annotate the list of DEGs when comparing 5 healthy and 5 sick RNAseq libraries from summer 2021. DEGlist includes the library counts. Will annotate with BLAST output and with uniprotSPGO"
   ]
  },
  {
   "cell_type": "markdown",
   "metadata": {},
   "source": [
    "FILES:\n",
    "1. BLAST output for 2015 Phel transcriptome: https://raw.githubusercontent.com/sr320/eimd-sswd/master/wd/Phel_uniprot_sprot.tab\n",
    "2. Uniprot GO: http://owl.fish.washington.edu/halfshell/bu-alanine-wd/17-07-20/uniprot-SP-GO.sorted\n",
    "3. DEGlist of healthy vs. sick: https://raw.githubusercontent.com/grace-ac/project_pycno/main/analyses/DESeq2/2015Phel/20230523-DEGlist_healthy-vs-sick_signif_5x5_counts.tab?token=GHSAT0AAAAAACC64DDE4B2NMR5W4HZQ6V7EZDNET4Q"
   ]
  },
  {
   "cell_type": "code",
   "execution_count": 1,
   "metadata": {},
   "outputs": [
    {
     "data": {
      "text/plain": [
       "'/Users/graciecrandall/Documents/GitHub/project_pycno/code'"
      ]
     },
     "execution_count": 1,
     "metadata": {},
     "output_type": "execute_result"
    }
   ],
   "source": [
    "pwd"
   ]
  },
  {
   "cell_type": "code",
   "execution_count": 2,
   "metadata": {
    "collapsed": true
   },
   "outputs": [],
   "source": [
    "wd = \"../analyses/DESeq2/2015Phel/\""
   ]
  },
  {
   "cell_type": "code",
   "execution_count": 3,
   "metadata": {},
   "outputs": [
    {
     "name": "stdout",
     "output_type": "stream",
     "text": [
      "/Users/graciecrandall/Documents/GitHub/project_pycno/analyses/DESeq2/2015Phel\n"
     ]
    }
   ],
   "source": [
    "cd $wd"
   ]
  },
  {
   "cell_type": "code",
   "execution_count": 4,
   "metadata": {},
   "outputs": [
    {
     "name": "stdout",
     "output_type": "stream",
     "text": [
      "  % Total    % Received % Xferd  Average Speed   Time    Time     Time  Current\n",
      "                                 Dload  Upload   Total   Spent    Left  Speed\n",
      "100  837k  100  837k    0     0   818k      0  0:00:01  0:00:01 --:--:--  823k\n"
     ]
    }
   ],
   "source": [
    "# curl `blast` ouptut from Phel transcriptome from Up in Arms\n",
    "!curl --insecure https://raw.githubusercontent.com/sr320/eimd-sswd/master/wd/Phel_uniprot_sprot.tab \\\n",
    "    -o 2015.Phel.BLASTx"
   ]
  },
  {
   "cell_type": "code",
   "execution_count": 5,
   "metadata": {},
   "outputs": [
    {
     "name": "stdout",
     "output_type": "stream",
     "text": [
      "  % Total    % Received % Xferd  Average Speed   Time    Time     Time  Current\n",
      "                                 Dload  Upload   Total   Spent    Left  Speed\n",
      "100  3322  100  3322    0     0     32      0  0:01:43  0:01:43 --:--:--   830-:--     00    0     0      0      0 --:--:--  0:00:15 --:--:--     0  0     0 --:--:--  0:01:40 --:--:--     0\n"
     ]
    }
   ],
   "source": [
    "# curl uniprot-sprot sorted\n",
    "!curl http://owl.fish.washington.edu/halfshell/bu-alanine-wd/17-07-20/uniprot-SP-GO.sorted -o uniprot-SP-GO.sorted"
   ]
  },
  {
   "cell_type": "code",
   "execution_count": 6,
   "metadata": {},
   "outputs": [
    {
     "name": "stdout",
     "output_type": "stream",
     "text": [
      "2015.Phel.BLASTx\r\n",
      "20230523-DEGlist_healthy-vs-sick_signif_5x5.tab\r\n",
      "20230523-DEGlist_healthy-vs-sick_signif_5x5_counts.tab\r\n",
      "20230523_DEGlist_healthy-vs-sick_5x5.tab\r\n",
      "20230523_DEGs-clusters-annot.tab\r\n",
      "20230523_healthyvsick-PCA.png\r\n",
      "Blastquery-GOslim.tab\r\n",
      "DEGlist_annot_4x4_healthyvsick.tab\r\n",
      "DEGlist_annot_4x4_tankexposed_V_sick.tab\r\n",
      "DEGlist_annot_8x8_healthyvsick.tab\r\n",
      "DEGlist_healthy-vs-sick.tab\r\n",
      "DEGlist_healthy-vs-sick_8x8.tab\r\n",
      "DEGlist_healthy-vs-sick_signif.tab\r\n",
      "DEGlist_healthy-vs-sick_signif_8x8.tab\r\n",
      "DEGlist_tankexposed_v_sick_4x4.tab\r\n",
      "DEGlist_tankexposed_v_sick_4x4_pval.tab\r\n",
      "DEGs_LESS-healthy-annot.tab\r\n",
      "DEGs_MORE-healthy-annot.tab\r\n",
      "DEGs_healthy-v-sick_20221031.png\r\n",
      "GO-GOslim.sorted\r\n",
      "PCA_4x4_healthyVsick.png\r\n",
      "PCA_4x4_tankExposedVsick.png\r\n",
      "PCA_8x8_healthVsick_labeled.png\r\n",
      "PCA_8x8_healthyVsick.png\r\n",
      "_blast-GO-unfolded.sorted\r\n",
      "_blast-GO-unfolded.tab\r\n",
      "_blast-annot.tab\r\n",
      "_blast-sep.tab\r\n",
      "_blast-sort.tab\r\n",
      "_intermediate.file\r\n",
      "blastout\r\n",
      "degs_annot_tankexposed_v_sick_BPonly.csv\r\n",
      "degs_healthyVsick_4x4.png\r\n",
      "degs_healthyVsick_8x8.png\r\n",
      "degs_tankexposedVsick_4x4.png\r\n",
      "readme.md\r\n",
      "uniprot-SP-GO.sorted\r\n"
     ]
    }
   ],
   "source": [
    "#check that curl-ed files are in directory\n",
    "!ls"
   ]
  },
  {
   "cell_type": "code",
   "execution_count": 7,
   "metadata": {
    "collapsed": true
   },
   "outputs": [],
   "source": [
    "!sort -u -k1,1 --field-separator $'\\t' 2015.Phel.BLASTx > blastout"
   ]
  },
  {
   "cell_type": "code",
   "execution_count": 8,
   "metadata": {},
   "outputs": [
    {
     "name": "stdout",
     "output_type": "stream",
     "text": [
      "   10513 blastout\r\n"
     ]
    }
   ],
   "source": [
    "!wc -l blastout"
   ]
  },
  {
   "cell_type": "code",
   "execution_count": 9,
   "metadata": {
    "collapsed": true
   },
   "outputs": [],
   "source": [
    "#set `blast` output file as variable\n",
    "blastout=\"2015.Phel.BLASTx\""
   ]
  },
  {
   "cell_type": "code",
   "execution_count": 10,
   "metadata": {},
   "outputs": [
    {
     "name": "stdout",
     "output_type": "stream",
     "text": [
      "Phel_contig_100\tsp|Q16513|PKN2_HUMAN\t81.33\t332\t61\t1\t7935\t6940\t653\t983\t5e-162\t  537\r\n",
      "Phel_contig_1000\tsp|Q8R4U2|PDIA1_CRIGR\t53.62\t442\t201\t2\t199\t1512\t31\t472\t5e-146\t  464\r\n"
     ]
    }
   ],
   "source": [
    "!head -2 blastout"
   ]
  },
  {
   "cell_type": "code",
   "execution_count": 11,
   "metadata": {
    "collapsed": true
   },
   "outputs": [],
   "source": [
    "#convert pipes to tab\n",
    "!tr '|' '\\t' < blastout \\\n",
    "> _blast-sep.tab"
   ]
  },
  {
   "cell_type": "code",
   "execution_count": 12,
   "metadata": {
    "scrolled": true
   },
   "outputs": [
    {
     "name": "stdout",
     "output_type": "stream",
     "text": [
      "Phel_contig_100\tsp\tQ16513\tPKN2_HUMAN\t81.33\t332\t61\t1\t7935\t6940\t653\t983\t5e-162\t  537\r\n",
      "Phel_contig_1000\tsp\tQ8R4U2\tPDIA1_CRIGR\t53.62\t442\t201\t2\t199\t1512\t31\t472\t5e-146\t  464\r\n"
     ]
    }
   ],
   "source": [
    "!head -2 _blast-sep.tab"
   ]
  },
  {
   "cell_type": "code",
   "execution_count": 14,
   "metadata": {
    "collapsed": true
   },
   "outputs": [],
   "source": [
    "#reducing number of columns and sorting \n",
    "!awk -v OFS='\\t' '{print $3, $1, $13}' < _blast-sep.tab | sort \\\n",
    "> _blast-sort.tab"
   ]
  },
  {
   "cell_type": "code",
   "execution_count": 15,
   "metadata": {},
   "outputs": [
    {
     "name": "stdout",
     "output_type": "stream",
     "text": [
      "A0AUR5\tPhel_contig_24211\t9e-67\r\n",
      "A0AVT1\tPhel_contig_12160\t0.0\r\n"
     ]
    }
   ],
   "source": [
    "!head -2 _blast-sort.tab"
   ]
  },
  {
   "cell_type": "code",
   "execution_count": 13,
   "metadata": {},
   "outputs": [
    {
     "name": "stdout",
     "output_type": "stream",
     "text": [
      "A0A023GPI8\tLECA_CANBL\treviewed\tLectin alpha chain (CboL) [Cleaved into: Lectin beta chain; Lectin gamma chain]\t\tCanavalia boliviana\t237\t\t\tmannose binding [GO:0005537]; metal ion binding [GO:0046872]\tmannose binding [GO:0005537]; metal ion binding [GO:0046872]\tGO:0005537; GO:0046872\r\n",
      "A0A023GPJ0\tCDII_ENTCC\treviewed\tImmunity protein CdiI\tcdiI ECL_04450.1\tEnterobacter cloacae subsp. cloacae (strain ATCC 13047 / DSM 30054 / NBRC 13535 / NCDC 279-56)\t145\t\t\t\t\t\r\n"
     ]
    }
   ],
   "source": [
    "!head -2 uniprot-SP-GO.sorted"
   ]
  },
  {
   "cell_type": "code",
   "execution_count": 16,
   "metadata": {
    "collapsed": true
   },
   "outputs": [],
   "source": [
    "#joining blast with uniprot annoation file \n",
    "!join -t $'\\t' \\\n",
    "_blast-sort.tab \\\n",
    "uniprot-SP-GO.sorted \\\n",
    "> _blast-annot.tab"
   ]
  },
  {
   "cell_type": "code",
   "execution_count": 17,
   "metadata": {},
   "outputs": [
    {
     "name": "stdout",
     "output_type": "stream",
     "text": [
      "A0AUR5\tPhel_contig_24211\t9e-67\tMINY3_DANRE\treviewed\tUbiquitin carboxyl-terminal hydrolase MINDY-3 (EC 3.4.19.12) (Deubiquitinating enzyme MINDY-3) (Protein CARP)\tmindy3 carp fam188a zgc:153892\tDanio rerio (Zebrafish) (Brachydanio rerio)\t446\tapoptotic process [GO:0006915]\tnucleus [GO:0005634]\tthiol-dependent ubiquitinyl hydrolase activity [GO:0036459]\tnucleus [GO:0005634]; thiol-dependent ubiquitinyl hydrolase activity [GO:0036459]; apoptotic process [GO:0006915]\tGO:0005634; GO:0006915; GO:0036459\r\n",
      "A0AVT1\tPhel_contig_12160\t0.0\tUBA6_HUMAN\treviewed\tUbiquitin-like modifier-activating enzyme 6 (Ubiquitin-activating enzyme 6) (EC 6.2.1.45) (Monocyte protein 4) (MOP-4) (Ubiquitin-activating enzyme E1-like protein 2) (E1-L2)\tUBA6 MOP4 UBE1L2\tHomo sapiens (Human)\t1052\tamygdala development [GO:0021764]; cellular response to DNA damage stimulus [GO:0006974]; dendritic spine development [GO:0060996]; hippocampus development [GO:0021766]; learning [GO:0007612]; locomotory behavior [GO:0007626]; protein ubiquitination [GO:0016567]; protein ubiquitination involved in ubiquitin-dependent protein catabolic process [GO:0042787]; ubiquitin-dependent protein catabolic process [GO:0006511]\tcytoplasm [GO:0005737]; cytosol [GO:0005829]\tATP binding [GO:0005524]; FAT10 activating enzyme activity [GO:0019780]; ubiquitin activating enzyme activity [GO:0004839]\tcytoplasm [GO:0005737]; cytosol [GO:0005829]; ATP binding [GO:0005524]; FAT10 activating enzyme activity [GO:0019780]; ubiquitin activating enzyme activity [GO:0004839]; amygdala development [GO:0021764]; cellular response to DNA damage stimulus [GO:0006974]; dendritic spine development [GO:0060996]; hippocampus development [GO:0021766]; learning [GO:0007612]; locomotory behavior [GO:0007626]; protein ubiquitination [GO:0016567]; protein ubiquitination involved in ubiquitin-dependent protein catabolic process [GO:0042787]; ubiquitin-dependent protein catabolic process [GO:0006511]\tGO:0004839; GO:0005524; GO:0005737; GO:0005829; GO:0006511; GO:0006974; GO:0007612; GO:0007626; GO:0016567; GO:0019780; GO:0021764; GO:0021766; GO:0042787; GO:0060996\r\n"
     ]
    }
   ],
   "source": [
    "!head -2 _blast-annot.tab"
   ]
  },
  {
   "cell_type": "code",
   "execution_count": null,
   "metadata": {
    "collapsed": true
   },
   "outputs": [],
   "source": []
  }
 ],
 "metadata": {
  "kernelspec": {
   "display_name": "Python [default]",
   "language": "python",
   "name": "python3"
  },
  "language_info": {
   "codemirror_mode": {
    "name": "ipython",
    "version": 3
   },
   "file_extension": ".py",
   "mimetype": "text/x-python",
   "name": "python",
   "nbconvert_exporter": "python",
   "pygments_lexer": "ipython3",
   "version": "3.5.6"
  }
 },
 "nbformat": 4,
 "nbformat_minor": 2
}
