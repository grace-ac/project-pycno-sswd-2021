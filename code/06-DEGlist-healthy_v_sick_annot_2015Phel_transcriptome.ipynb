{
 "cells": [
  {
   "cell_type": "markdown",
   "metadata": {},
   "source": [
    "Notebook to annotate DEGlist of Healthy (n=8) v sick (n=8) coelomocyte RNA libraries compared to 2015 Phel Transcriptome from Up in Arms paper"
   ]
  },
  {
   "cell_type": "markdown",
   "metadata": {},
   "source": [
    "Files Needed:\n",
    "1. BLAST output from 2015 Phel Transcriptome: https://raw.githubusercontent.com/sr320/eimd-sswd/master/wd/Phel_uniprot_sprot.tab\n",
    "2. DEGlist from Healthy v Sick 2021 libraries compared to 2015 Phel Transcriptome: https://raw.githubusercontent.com/grace-ac/project_pycno/main/analyses/DESeq2/2015Phel/DEGlist_healthy-vs-sick.tab?token=GHSAT0AAAAAABZLW7F4UAVHKSQMNXJPEY3KY3AP7GQ\n",
    "3. Uniprot GO Annotation file: http://owl.fish.washington.edu/halfshell/bu-alanine-wd/17-07-20/uniprot-SP-GO.sorted\n",
    "4. GOslim file available here: http://owl.fish.washington.edu/halfshell/bu-alanine-wd/17-07-20/GO-GOslim.sorted"
   ]
  },
  {
   "cell_type": "markdown",
   "metadata": {},
   "source": [
    "Check working directory. Change it to /Users/graciecrandall/Documents/GitHub/project_pycno/analyses/DESeq2/2015Phel"
   ]
  },
  {
   "cell_type": "code",
   "execution_count": 1,
   "metadata": {},
   "outputs": [
    {
     "data": {
      "text/plain": [
       "'/Users/graciecrandall/Documents/GitHub/project_pycno/code'"
      ]
     },
     "execution_count": 1,
     "metadata": {},
     "output_type": "execute_result"
    }
   ],
   "source": [
    "pwd"
   ]
  },
  {
   "cell_type": "code",
   "execution_count": 2,
   "metadata": {
    "collapsed": true
   },
   "outputs": [],
   "source": [
    "wd = \"../analyses/DESeq2/2015Phel/\""
   ]
  },
  {
   "cell_type": "code",
   "execution_count": 3,
   "metadata": {},
   "outputs": [
    {
     "name": "stdout",
     "output_type": "stream",
     "text": [
      "/Users/graciecrandall/Documents/GitHub/project_pycno/analyses/DESeq2/2015Phel\n"
     ]
    }
   ],
   "source": [
    "cd $wd"
   ]
  },
  {
   "cell_type": "code",
   "execution_count": 4,
   "metadata": {},
   "outputs": [
    {
     "name": "stdout",
     "output_type": "stream",
     "text": [
      "  % Total    % Received % Xferd  Average Speed   Time    Time     Time  Current\n",
      "                                 Dload  Upload   Total   Spent    Left  Speed\n",
      "100  837k  100  837k    0     0  1818k      0 --:--:-- --:--:-- --:--:-- 1836k\n"
     ]
    }
   ],
   "source": [
    "# curl `blast` ouptut from Phel transcriptome from Up in Arms\n",
    "!curl --insecure https://raw.githubusercontent.com/sr320/eimd-sswd/master/wd/Phel_uniprot_sprot.tab \\\n",
    "    -o 2015.Phel.BLASTx"
   ]
  },
  {
   "cell_type": "code",
   "execution_count": 17,
   "metadata": {},
   "outputs": [
    {
     "name": "stdout",
     "output_type": "stream",
     "text": [
      "  % Total    % Received % Xferd  Average Speed   Time    Time     Time  Current\n",
      "                                 Dload  Upload   Total   Spent    Left  Speed\n",
      "100  2968  100  2968    0     0   3226      0 --:--:-- --:--:-- --:--:--  3376-  3376\n"
     ]
    }
   ],
   "source": [
    "# curl uniprot-sprot sorted\n",
    "!curl http://owl.fish.washington.edu/halfshell/bu-alanine-wd/17-07-20/uniprot-SP-GO.sorted -o uniprot-SP-GO.sorted"
   ]
  },
  {
   "cell_type": "code",
   "execution_count": 6,
   "metadata": {},
   "outputs": [
    {
     "name": "stdout",
     "output_type": "stream",
     "text": [
      "  % Total    % Received % Xferd  Average Speed   Time    Time     Time  Current\n",
      "                                 Dload  Upload   Total   Spent    Left  Speed\n",
      "100  2968  100  2968    0     0  17385      0 --:--:-- --:--:-- --:--:-- 18550\n"
     ]
    }
   ],
   "source": [
    "# curl GO-GOslim sorted\n",
    "!curl http://owl.fish.washington.edu/halfshell/bu-alanine-wd/17-07-20/GO-GOslim.sorted -o GO-GOslim.sorted"
   ]
  },
  {
   "cell_type": "code",
   "execution_count": 18,
   "metadata": {},
   "outputs": [
    {
     "name": "stdout",
     "output_type": "stream",
     "text": [
      "2015.Phel.BLASTx                 _blast-sort.tab\r\n",
      "DEGlist_healthy-vs-sick.tab      blastout\r\n",
      "DEGs_healthy-v-sick_20221031.png readme.md\r\n",
      "GO-GOslim.sorted                 uniprot-SP-GO.sorted\r\n",
      "_blast-sep.tab\r\n"
     ]
    }
   ],
   "source": [
    "#check that curl-ed files are in directory\n",
    "!ls"
   ]
  },
  {
   "cell_type": "code",
   "execution_count": 8,
   "metadata": {
    "collapsed": true
   },
   "outputs": [],
   "source": [
    "!sort -u -k1,1 --field-separator $'\\t' 2015.Phel.BLASTx > blastout"
   ]
  },
  {
   "cell_type": "code",
   "execution_count": 9,
   "metadata": {},
   "outputs": [
    {
     "name": "stdout",
     "output_type": "stream",
     "text": [
      "   10513 blastout\r\n"
     ]
    }
   ],
   "source": [
    "!wc -l blastout"
   ]
  },
  {
   "cell_type": "code",
   "execution_count": 10,
   "metadata": {
    "collapsed": true
   },
   "outputs": [],
   "source": [
    "#set `blast` output file as variable\n",
    "blastout=\"2015.Phel.BLASTx\""
   ]
  },
  {
   "cell_type": "code",
   "execution_count": 11,
   "metadata": {},
   "outputs": [
    {
     "name": "stdout",
     "output_type": "stream",
     "text": [
      "Phel_contig_100\tsp|Q16513|PKN2_HUMAN\t81.33\t332\t61\t1\t7935\t6940\t653\t983\t5e-162\t  537\r\n",
      "Phel_contig_1000\tsp|Q8R4U2|PDIA1_CRIGR\t53.62\t442\t201\t2\t199\t1512\t31\t472\t5e-146\t  464\r\n"
     ]
    }
   ],
   "source": [
    "!head -2 blastout"
   ]
  },
  {
   "cell_type": "code",
   "execution_count": 12,
   "metadata": {
    "collapsed": true
   },
   "outputs": [],
   "source": [
    "#convert pipes to tab\n",
    "!tr '|' '\\t' < blastout \\\n",
    "> _blast-sep.tab"
   ]
  },
  {
   "cell_type": "code",
   "execution_count": 13,
   "metadata": {},
   "outputs": [
    {
     "name": "stdout",
     "output_type": "stream",
     "text": [
      "Phel_contig_100\tsp\tQ16513\tPKN2_HUMAN\t81.33\t332\t61\t1\t7935\t6940\t653\t983\t5e-162\t  537\r\n",
      "Phel_contig_1000\tsp\tQ8R4U2\tPDIA1_CRIGR\t53.62\t442\t201\t2\t199\t1512\t31\t472\t5e-146\t  464\r\n"
     ]
    }
   ],
   "source": [
    "!head -2 _blast-sep.tab"
   ]
  },
  {
   "cell_type": "code",
   "execution_count": 14,
   "metadata": {
    "collapsed": true
   },
   "outputs": [],
   "source": [
    "#reducing number of columns and sorting \n",
    "!awk -v OFS='\\t' '{print $3, $1, $13}' < _blast-sep.tab | sort \\\n",
    "> _blast-sort.tab"
   ]
  },
  {
   "cell_type": "code",
   "execution_count": 15,
   "metadata": {},
   "outputs": [
    {
     "name": "stdout",
     "output_type": "stream",
     "text": [
      "A0AUR5\tPhel_contig_24211\t9e-67\r\n",
      "A0AVT1\tPhel_contig_12160\t0.0\r\n"
     ]
    }
   ],
   "source": [
    "!head -2 _blast-sort.tab"
   ]
  },
  {
   "cell_type": "code",
   "execution_count": 20,
   "metadata": {},
   "outputs": [
    {
     "name": "stdout",
     "output_type": "stream",
     "text": [
      "<!DOCTYPE html>\r\n",
      "<html>\r\n"
     ]
    }
   ],
   "source": [
    "!head -2 uniprot-SP-GO.sorted"
   ]
  },
  {
   "cell_type": "markdown",
   "metadata": {},
   "source": [
    "For some reason the uniprot-SP-GO.sorted and GO-GOslim.sorted are .html files... but I have those same files in a github repo from my crab stuff so I'll just use those for now. In finder, I copied the uniprot-SP-GO.sorted and GO-GOslim.sorted from /Users/graciecrandall/Documents/GitHub/paper-crab/analyses/BLAST-to-GOslim/ and pasted them into /Users/graciecrandall/Documents/GitHub/project_pycno/analyses/DESeq2/2015Phel/"
   ]
  },
  {
   "cell_type": "code",
   "execution_count": 21,
   "metadata": {},
   "outputs": [
    {
     "name": "stdout",
     "output_type": "stream",
     "text": [
      "A0A023GPI8\tLECA_CANBL\treviewed\tLectin alpha chain (CboL) [Cleaved into: Lectin beta chain; Lectin gamma chain]\t\tCanavalia boliviana\t237\t\t\tmannose binding [GO:0005537]; metal ion binding [GO:0046872]\tmannose binding [GO:0005537]; metal ion binding [GO:0046872]\tGO:0005537; GO:0046872\r\n",
      "A0A023GPJ0\tCDII_ENTCC\treviewed\tImmunity protein CdiI\tcdiI ECL_04450.1\tEnterobacter cloacae subsp. cloacae (strain ATCC 13047 / DSM 30054 / NBRC 13535 / NCDC 279-56)\t145\t\t\t\t\t\r\n"
     ]
    }
   ],
   "source": [
    "!head -2 uniprot-SP-GO.sorted"
   ]
  },
  {
   "cell_type": "code",
   "execution_count": 22,
   "metadata": {
    "collapsed": true
   },
   "outputs": [],
   "source": [
    "#joining blast with uniprot annoation file and reducing to three columns UniprotID, Query, All GO terms\n",
    "!join -t $'\\t' \\\n",
    "_blast-sort.tab \\\n",
    "uniprot-SP-GO.sorted \\\n",
    "| cut -f1,2,14 \\\n",
    "> _blast-annot.tab"
   ]
  },
  {
   "cell_type": "code",
   "execution_count": 23,
   "metadata": {},
   "outputs": [
    {
     "name": "stdout",
     "output_type": "stream",
     "text": [
      "A0AUR5\tPhel_contig_24211\tGO:0005634; GO:0006915; GO:0036459\r\n",
      "A0AVT1\tPhel_contig_12160\tGO:0004839; GO:0005524; GO:0005737; GO:0005829; GO:0006511; GO:0006974; GO:0007612; GO:0007626; GO:0016567; GO:0019780; GO:0021764; GO:0021766; GO:0042787; GO:0060996\r\n"
     ]
    }
   ],
   "source": [
    "!head -2 _blast-annot.tab"
   ]
  },
  {
   "cell_type": "markdown",
   "metadata": {},
   "source": [
    "The following is a script modified by Sam White"
   ]
  },
  {
   "cell_type": "code",
   "execution_count": 24,
   "metadata": {
    "collapsed": true
   },
   "outputs": [],
   "source": [
    "%%bash \n",
    "\n",
    "# This script was originally written to address a specific problem that Rhonda was having\n",
    "\n",
    "\n",
    "\n",
    "# input_file is the initial, \"problem\" file\n",
    "# file is an intermediate file that most of the program works upon\n",
    "# output_file is the final file produced by the script\n",
    "input_file=\"_blast-annot.tab\"\n",
    "file=\"_intermediate.file\"\n",
    "output_file=\"_blast-GO-unfolded.tab\"\n",
    "\n",
    "# sed command substitutes the \"; \" sequence to a tab and writes the new format to a new file.\n",
    "# This character sequence is how the GO terms are delimited in their field.\n",
    "sed $'s/; /\\t/g' \"$input_file\" > \"$file\"\n",
    "\n",
    "# Identify first field containing a GO term.\n",
    "# Search file with grep for \"GO:\" and pipe to awk.\n",
    "# Awk sets tab as field delimiter (-F'\\t'), runs a for loop that looks for \"GO:\" (~/GO:/), and then prints the field number).\n",
    "# Awk results are piped to sort, which sorts unique by number (-ug).\n",
    "# Sort results are piped to head to retrieve the lowest value (i.e. the top of the list; \"-n1\").\n",
    "begin_goterms=$(grep \"GO:\" \"$file\" | awk -F'\\t' '{for (i=1;i<=NF;i++) if($i ~/GO:/) print i}' | sort -ug | head -n1)\n",
    "\n",
    "# While loop to process each line of the input file.\n",
    "while read -r line\n",
    "\tdo\n",
    "\t\n",
    "\t# Send contents of the current line to awk.\n",
    "\t# Set the field separator as a tab (-F'\\t') and print the number of fields in that line.\n",
    "\t# Save the results of the echo/awk pipe (i.e. number of fields) to the variable \"max_field\".\n",
    "\tmax_field=$(echo \"$line\" | awk -F'\\t' '{print NF}')\n",
    "\n",
    "\t# Send contents of current line to cut.\n",
    "\t# Cut fields (i.e. retain those fields) 1-12.\n",
    "\t# Save the results of the echo/cut pipe (i.e. fields 1-12) to the variable \"fixed_fields\"\n",
    "\tfixed_fields=$(echo \"$line\" | cut -f1-2)\n",
    "\n",
    "\t# Since not all the lines contain the same number of fields (e.g. may not have GO terms),\n",
    "\t# evaluate the number of fields in each line to determine how to handle current line.\n",
    "\n",
    "\t# If the value in max_field is less than the field number where the GO terms begin,\n",
    "\t# then just print the current line (%s) followed by a newline (\\n).\n",
    "\tif (( \"$max_field\" < \"$begin_goterms\" ))\n",
    "\t\tthen printf \"%s\\n\" \"$line\"\n",
    "\t\t\telse\n",
    "\n",
    "\t\t\t# Send contents of current line (which contains GO terms) to cut.\n",
    "\t\t\t# Cut fields (i.e. retain those fields) 13 to whatever the last field is in the curent line.\n",
    "\t\t\t# Save the results of the echo/cut pipe (i.e. all the GO terms fields) to the variable \"goterms\".\n",
    "\t\t\tgoterms=$(echo \"$line\" | cut -f\"$begin_goterms\"-\"$max_field\")\n",
    "\t\t\t\n",
    "\t\t\t# Assign values in the variable \"goterms\" to a new indexed array (called \"array\"), \n",
    "\t\t\t# with tab delimiter (IFS=$'\\t')\n",
    "\t\t\tIFS=$'\\t' read -r -a array <<<\"$goterms\"\n",
    "\t\t\t\n",
    "\t\t\t# Iterate through each element of the array.\n",
    "\t\t\t# Print the first 12 fields (i.e. the fields stored in \"fixed_fields\") followed by a tab (%s\\t).\n",
    "\t\t\t# Print the current element in the array (i.e. the current GO term) followed by a new line (%s\\n).\n",
    "\t\t\tfor element in \"${!array[@]}\"\t\n",
    "\t\t\t\tdo printf \"%s\\t%s\\n\" \"$fixed_fields\" \"${array[$element]}\"\n",
    "\t\t\tdone\n",
    "\tfi\n",
    "\n",
    "# Send the input file into the while loop and send the output to a file named \"rhonda_fixed.txt\".\n",
    "done < \"$file\" > \"$output_file\""
   ]
  },
  {
   "cell_type": "code",
   "execution_count": 25,
   "metadata": {},
   "outputs": [
    {
     "name": "stdout",
     "output_type": "stream",
     "text": [
      "A0AUR5\tPhel_contig_24211\tGO:0005634\r\n",
      "A0AUR5\tPhel_contig_24211\tGO:0006915\r\n",
      "A0AUR5\tPhel_contig_24211\tGO:0036459\r\n",
      "A0AVT1\tPhel_contig_12160\tGO:0004839\r\n",
      "A0AVT1\tPhel_contig_12160\tGO:0005524\r\n",
      "A0AVT1\tPhel_contig_12160\tGO:0005737\r\n",
      "A0AVT1\tPhel_contig_12160\tGO:0005829\r\n",
      "A0AVT1\tPhel_contig_12160\tGO:0006511\r\n",
      "A0AVT1\tPhel_contig_12160\tGO:0006974\r\n",
      "A0AVT1\tPhel_contig_12160\tGO:0007612\r\n"
     ]
    }
   ],
   "source": [
    "!head _blast-GO-unfolded.tab"
   ]
  },
  {
   "cell_type": "code",
   "execution_count": 26,
   "metadata": {
    "collapsed": true
   },
   "outputs": [],
   "source": [
    "#gets rid of lines with no GOIDs\n",
    "!sort -k3 _blast-GO-unfolded.tab | grep \"GO:\" > _blast-GO-unfolded.sorted"
   ]
  },
  {
   "cell_type": "code",
   "execution_count": 27,
   "metadata": {
    "collapsed": true
   },
   "outputs": [],
   "source": [
    "#joining files to get GOslim for each query (with duplicate GOslim / query removed)\n",
    "!join -1 3 -2 1 -t $'\\t' \\\n",
    "_blast-GO-unfolded.sorted \\\n",
    "GO-GOslim.sorted \\\n",
    "| uniq | awk -F'\\t' -v OFS='\\t' '{print $3, $1, $5, $6}' \\\n",
    "> Blastquery-GOslim.tab"
   ]
  },
  {
   "cell_type": "code",
   "execution_count": 28,
   "metadata": {},
   "outputs": [
    {
     "name": "stdout",
     "output_type": "stream",
     "text": [
      "Phel_contig_12623\tGO:0000002\tcell organization and biogenesis\tP\r\n",
      "Phel_contig_14859\tGO:0000002\tcell organization and biogenesis\tP\r\n",
      "Phel_contig_845\tGO:0000002\tcell organization and biogenesis\tP\r\n",
      "Phel_contig_2201\tGO:0000003\tother biological processes\tP\r\n",
      "Phel_contig_27572\tGO:0000003\tother biological processes\tP\r\n",
      "Phel_contig_18022\tGO:0000010\tother molecular function\tF\r\n",
      "Phel_contig_24819\tGO:0000010\tother molecular function\tF\r\n",
      "Phel_contig_6706\tGO:0000011\tcell organization and biogenesis\tP\r\n",
      "Phel_contig_364\tGO:0000012\tDNA metabolism\tP\r\n",
      "Phel_contig_364\tGO:0000012\tstress response\tP\r\n"
     ]
    }
   ],
   "source": [
    "!head Blastquery-GOslim.tab"
   ]
  },
  {
   "cell_type": "code",
   "execution_count": 31,
   "metadata": {
    "collapsed": true
   },
   "outputs": [],
   "source": [
    "#join Blastquery-GOslim.tab with DEGlist_healthy-vs-sick.tab in R\n",
    "#Save Blastquery-GOslim.tab to directory"
   ]
  },
  {
   "cell_type": "code",
   "execution_count": 32,
   "metadata": {},
   "outputs": [
    {
     "name": "stdout",
     "output_type": "stream",
     "text": [
      "2015.Phel.BLASTx                 _blast-annot.tab\r\n",
      "Blastquery-GOslim.tab            _blast-sep.tab\r\n",
      "DEGlist_annot.tab                _blast-sort.tab\r\n",
      "DEGlist_healthy-vs-sick.tab      _intermediate.file\r\n",
      "DEGs_healthy-v-sick_20221031.png blastout\r\n",
      "GO-GOslim.sorted                 readme.md\r\n",
      "_blast-GO-unfolded.sorted        uniprot-SP-GO.sorted\r\n",
      "_blast-GO-unfolded.tab\r\n"
     ]
    }
   ],
   "source": [
    "#check contents of directory\n",
    "!ls\n"
   ]
  },
  {
   "cell_type": "code",
   "execution_count": 33,
   "metadata": {},
   "outputs": [
    {
     "name": "stdout",
     "output_type": "stream",
     "text": [
      "Phel_contig\tbaseMean\tlog2FoldChange\tlfcSE\tstat\tpvalue\tpadj\tGO_ID\tGO_slim\tCC_MF_BP\r\n",
      "Phel_contig_10005\t83.5548597781291\t-1.20197339235809\t0.440911033887957\t-2.72611320646498\t0.00640850143530924\t0.0438204690395438\tNA\tNA\tNA\r\n"
     ]
    }
   ],
   "source": [
    "!head -2 DEGlist_annot.tab"
   ]
  },
  {
   "cell_type": "code",
   "execution_count": 36,
   "metadata": {},
   "outputs": [
    {
     "name": "stdout",
     "output_type": "stream",
     "text": [
      "7991 P\r\n"
     ]
    }
   ],
   "source": [
    "#count unique P rows (P = biological process)\n",
    "!cat DEGlist_annot.tab | grep \"\tP\"  | awk -F $'\\t' '{print $10}' | sort | uniq -c"
   ]
  },
  {
   "cell_type": "code",
   "execution_count": 35,
   "metadata": {
    "collapsed": true
   },
   "outputs": [],
   "source": [
    "#there are 7991 unique biological processes in the DEGlist... however the original DEGlist is only 4194 rows. \n",
    "#Reason is becase there are multiple GOslim terms per Phel contig"
   ]
  },
  {
   "cell_type": "code",
   "execution_count": 38,
   "metadata": {},
   "outputs": [
    {
     "name": "stdout",
     "output_type": "stream",
     "text": [
      "1236 other biological processes\r\n",
      "1051 developmental processes\r\n",
      " 914 other metabolic processes\r\n",
      " 742 protein metabolism\r\n",
      " 715 cell organization and biogenesis\r\n",
      " 681 signal transduction\r\n",
      " 658 transport\r\n",
      " 603 RNA metabolism\r\n",
      " 559 stress response\r\n",
      " 321 cell cycle and proliferation\r\n",
      " 216 death\r\n",
      " 111 DNA metabolism\r\n",
      " 103 cell adhesion\r\n",
      "  81 cell-cell signaling\r\n"
     ]
    }
   ],
   "source": [
    "!cat DEGlist_annot.tab | grep \"\tP\" | awk -F $'\\t' '{print $9}' | sort | uniq -c | sort -r"
   ]
  },
  {
   "cell_type": "code",
   "execution_count": null,
   "metadata": {
    "collapsed": true
   },
   "outputs": [],
   "source": []
  }
 ],
 "metadata": {
  "kernelspec": {
   "display_name": "Python [default]",
   "language": "python",
   "name": "python3"
  },
  "language_info": {
   "codemirror_mode": {
    "name": "ipython",
    "version": 3
   },
   "file_extension": ".py",
   "mimetype": "text/x-python",
   "name": "python",
   "nbconvert_exporter": "python",
   "pygments_lexer": "ipython3",
   "version": "3.5.6"
  }
 },
 "nbformat": 4,
 "nbformat_minor": 2
}
