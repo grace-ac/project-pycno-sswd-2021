{
 "cells": [
  {
   "cell_type": "markdown",
   "metadata": {},
   "source": [
    "Notebook to annotate DEGlist of Healthy (n=8) v sick (n=8) coelomocyte RNA libraries compared to 2015 Phel Transcriptome from Up in Arms paper"
   ]
  },
  {
   "cell_type": "markdown",
   "metadata": {},
   "source": [
    "Files Needed:\n",
    "1. BLAST output from 2015 Phel Transcriptome: https://raw.githubusercontent.com/sr320/eimd-sswd/master/wd/Phel_uniprot_sprot.tab\n",
    "2. DEGlist from Healthy v Sick 2021 libraries compared to 2015 Phel Transcriptome: https://raw.githubusercontent.com/grace-ac/project_pycno/main/analyses/DESeq2/2015Phel/DEGlist_healthy-vs-sick.tab?token=GHSAT0AAAAAABZLW7F4UAVHKSQMNXJPEY3KY3AP7GQ\n",
    "3. Uniprot GO Annotation file: http://owl.fish.washington.edu/halfshell/bu-alanine-wd/17-07-20/uniprot-SP-GO.sorted\n",
    "4. GOslim file available here: http://owl.fish.washington.edu/halfshell/bu-alanine-wd/17-07-20/GO-GOslim.sorted"
   ]
  },
  {
   "cell_type": "markdown",
   "metadata": {},
   "source": [
    "Check working directory. Change it to /Users/graciecrandall/Documents/GitHub/project_pycno/analyses/DESeq2/2015Phel"
   ]
  },
  {
   "cell_type": "code",
   "execution_count": 1,
   "metadata": {},
   "outputs": [
    {
     "data": {
      "text/plain": [
       "'/Users/graciecrandall/Documents/GitHub/project_pycno/code'"
      ]
     },
     "execution_count": 1,
     "metadata": {},
     "output_type": "execute_result"
    }
   ],
   "source": [
    "pwd"
   ]
  },
  {
   "cell_type": "code",
   "execution_count": 2,
   "metadata": {
    "collapsed": true
   },
   "outputs": [],
   "source": [
    "wd = \"../analyses/DESeq2/2015Phel/\""
   ]
  },
  {
   "cell_type": "code",
   "execution_count": 3,
   "metadata": {},
   "outputs": [
    {
     "name": "stdout",
     "output_type": "stream",
     "text": [
      "/Users/graciecrandall/Documents/GitHub/project_pycno/analyses/DESeq2/2015Phel\n"
     ]
    }
   ],
   "source": [
    "cd $wd"
   ]
  },
  {
   "cell_type": "code",
   "execution_count": 4,
   "metadata": {},
   "outputs": [
    {
     "name": "stdout",
     "output_type": "stream",
     "text": [
      "  % Total    % Received % Xferd  Average Speed   Time    Time     Time  Current\n",
      "                                 Dload  Upload   Total   Spent    Left  Speed\n",
      "100  837k  100  837k    0     0  1818k      0 --:--:-- --:--:-- --:--:-- 1836k\n"
     ]
    }
   ],
   "source": [
    "# curl `blast` ouptut from Phel transcriptome from Up in Arms\n",
    "!curl --insecure https://raw.githubusercontent.com/sr320/eimd-sswd/master/wd/Phel_uniprot_sprot.tab \\\n",
    "    -o 2015.Phel.BLASTx"
   ]
  },
  {
   "cell_type": "code",
   "execution_count": 17,
   "metadata": {},
   "outputs": [
    {
     "name": "stdout",
     "output_type": "stream",
     "text": [
      "  % Total    % Received % Xferd  Average Speed   Time    Time     Time  Current\n",
      "                                 Dload  Upload   Total   Spent    Left  Speed\n",
      "100  2968  100  2968    0     0   3226      0 --:--:-- --:--:-- --:--:--  3376-  3376\n"
     ]
    }
   ],
   "source": [
    "# curl uniprot-sprot sorted\n",
    "!curl http://owl.fish.washington.edu/halfshell/bu-alanine-wd/17-07-20/uniprot-SP-GO.sorted -o uniprot-SP-GO.sorted"
   ]
  },
  {
   "cell_type": "code",
   "execution_count": 6,
   "metadata": {},
   "outputs": [
    {
     "name": "stdout",
     "output_type": "stream",
     "text": [
      "  % Total    % Received % Xferd  Average Speed   Time    Time     Time  Current\n",
      "                                 Dload  Upload   Total   Spent    Left  Speed\n",
      "100  2968  100  2968    0     0  17385      0 --:--:-- --:--:-- --:--:-- 18550\n"
     ]
    }
   ],
   "source": [
    "# curl GO-GOslim sorted\n",
    "!curl http://owl.fish.washington.edu/halfshell/bu-alanine-wd/17-07-20/GO-GOslim.sorted -o GO-GOslim.sorted"
   ]
  },
  {
   "cell_type": "code",
   "execution_count": 18,
   "metadata": {},
   "outputs": [
    {
     "name": "stdout",
     "output_type": "stream",
     "text": [
      "2015.Phel.BLASTx                 _blast-sort.tab\r\n",
      "DEGlist_healthy-vs-sick.tab      blastout\r\n",
      "DEGs_healthy-v-sick_20221031.png readme.md\r\n",
      "GO-GOslim.sorted                 uniprot-SP-GO.sorted\r\n",
      "_blast-sep.tab\r\n"
     ]
    }
   ],
   "source": [
    "#check that curl-ed files are in directory\n",
    "!ls"
   ]
  },
  {
   "cell_type": "code",
   "execution_count": 8,
   "metadata": {
    "collapsed": true
   },
   "outputs": [],
   "source": [
    "!sort -u -k1,1 --field-separator $'\\t' 2015.Phel.BLASTx > blastout"
   ]
  },
  {
   "cell_type": "code",
   "execution_count": 9,
   "metadata": {},
   "outputs": [
    {
     "name": "stdout",
     "output_type": "stream",
     "text": [
      "   10513 blastout\r\n"
     ]
    }
   ],
   "source": [
    "!wc -l blastout"
   ]
  },
  {
   "cell_type": "code",
   "execution_count": 10,
   "metadata": {
    "collapsed": true
   },
   "outputs": [],
   "source": [
    "#set `blast` output file as variable\n",
    "blastout=\"2015.Phel.BLASTx\""
   ]
  },
  {
   "cell_type": "code",
   "execution_count": 11,
   "metadata": {},
   "outputs": [
    {
     "name": "stdout",
     "output_type": "stream",
     "text": [
      "Phel_contig_100\tsp|Q16513|PKN2_HUMAN\t81.33\t332\t61\t1\t7935\t6940\t653\t983\t5e-162\t  537\r\n",
      "Phel_contig_1000\tsp|Q8R4U2|PDIA1_CRIGR\t53.62\t442\t201\t2\t199\t1512\t31\t472\t5e-146\t  464\r\n"
     ]
    }
   ],
   "source": [
    "!head -2 blastout"
   ]
  },
  {
   "cell_type": "code",
   "execution_count": 12,
   "metadata": {
    "collapsed": true
   },
   "outputs": [],
   "source": [
    "#convert pipes to tab\n",
    "!tr '|' '\\t' < blastout \\\n",
    "> _blast-sep.tab"
   ]
  },
  {
   "cell_type": "code",
   "execution_count": 13,
   "metadata": {},
   "outputs": [
    {
     "name": "stdout",
     "output_type": "stream",
     "text": [
      "Phel_contig_100\tsp\tQ16513\tPKN2_HUMAN\t81.33\t332\t61\t1\t7935\t6940\t653\t983\t5e-162\t  537\r\n",
      "Phel_contig_1000\tsp\tQ8R4U2\tPDIA1_CRIGR\t53.62\t442\t201\t2\t199\t1512\t31\t472\t5e-146\t  464\r\n"
     ]
    }
   ],
   "source": [
    "!head -2 _blast-sep.tab"
   ]
  },
  {
   "cell_type": "code",
   "execution_count": 14,
   "metadata": {
    "collapsed": true
   },
   "outputs": [],
   "source": [
    "#reducing number of columns and sorting \n",
    "!awk -v OFS='\\t' '{print $3, $1, $13}' < _blast-sep.tab | sort \\\n",
    "> _blast-sort.tab"
   ]
  },
  {
   "cell_type": "code",
   "execution_count": 15,
   "metadata": {},
   "outputs": [
    {
     "name": "stdout",
     "output_type": "stream",
     "text": [
      "A0AUR5\tPhel_contig_24211\t9e-67\r\n",
      "A0AVT1\tPhel_contig_12160\t0.0\r\n"
     ]
    }
   ],
   "source": [
    "!head -2 _blast-sort.tab"
   ]
  },
  {
   "cell_type": "code",
   "execution_count": 20,
   "metadata": {},
   "outputs": [
    {
     "name": "stdout",
     "output_type": "stream",
     "text": [
      "<!DOCTYPE html>\r\n",
      "<html>\r\n"
     ]
    }
   ],
   "source": [
    "!head -2 uniprot-SP-GO.sorted"
   ]
  },
  {
   "cell_type": "code",
   "execution_count": null,
   "metadata": {
    "collapsed": true
   },
   "outputs": [],
   "source": []
  }
 ],
 "metadata": {
  "kernelspec": {
   "display_name": "Python [default]",
   "language": "python",
   "name": "python3"
  },
  "language_info": {
   "codemirror_mode": {
    "name": "ipython",
    "version": 3
   },
   "file_extension": ".py",
   "mimetype": "text/x-python",
   "name": "python",
   "nbconvert_exporter": "python",
   "pygments_lexer": "ipython3",
   "version": "3.5.6"
  }
 },
 "nbformat": 4,
 "nbformat_minor": 2
}
